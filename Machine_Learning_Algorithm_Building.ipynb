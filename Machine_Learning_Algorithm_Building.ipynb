{
 "cells": [
  {
   "cell_type": "markdown",
   "id": "344be380-851b-41bb-bd00-34b54281746e",
   "metadata": {},
   "source": [
    "# Machine Learning Algorithm"
   ]
  },
  {
   "cell_type": "code",
   "execution_count": 2,
   "id": "92a36986-8787-43ef-a1f5-5c75a2cb4a83",
   "metadata": {},
   "outputs": [],
   "source": [
    "import pandas as pd\n",
    "import numpy as np"
   ]
  },
  {
   "cell_type": "code",
   "execution_count": null,
   "id": "e36fa438-1cb1-4470-a364-fcf7be0cab17",
   "metadata": {},
   "outputs": [],
   "source": []
  },
  {
   "cell_type": "code",
   "execution_count": null,
   "id": "57ea8029-6c46-4498-8168-2a1031e29fe5",
   "metadata": {},
   "outputs": [],
   "source": []
  },
  {
   "cell_type": "markdown",
   "id": "2944ed58-2e13-4b8f-a2ad-d7dc6aef31e3",
   "metadata": {},
   "source": [
    "# Linear Rigression"
   ]
  },
  {
   "cell_type": "code",
   "execution_count": 3,
   "id": "98ba7520-dc14-455d-81b8-0f15fb6612f1",
   "metadata": {},
   "outputs": [],
   "source": [
    "# Model training\n",
    "from sklearn.linear_model import LinearRegression"
   ]
  },
  {
   "cell_type": "code",
   "execution_count": null,
   "id": "205b76c3-d7c3-49ac-b468-4124007f3e8e",
   "metadata": {},
   "outputs": [],
   "source": []
  },
  {
   "cell_type": "code",
   "execution_count": null,
   "id": "43642e89-2b98-4356-a8d1-91e8fddb0f57",
   "metadata": {},
   "outputs": [],
   "source": []
  },
  {
   "cell_type": "code",
   "execution_count": null,
   "id": "9e8567b4-5b06-4c8a-b38d-2fa89bce0acf",
   "metadata": {},
   "outputs": [],
   "source": []
  },
  {
   "cell_type": "code",
   "execution_count": null,
   "id": "f2eba269-b303-47ed-bed8-5fb12b8dbaca",
   "metadata": {},
   "outputs": [],
   "source": []
  }
 ],
 "metadata": {
  "kernelspec": {
   "display_name": "Python 3 (ipykernel)",
   "language": "python",
   "name": "python3"
  },
  "language_info": {
   "codemirror_mode": {
    "name": "ipython",
    "version": 3
   },
   "file_extension": ".py",
   "mimetype": "text/x-python",
   "name": "python",
   "nbconvert_exporter": "python",
   "pygments_lexer": "ipython3",
   "version": "3.10.12"
  }
 },
 "nbformat": 4,
 "nbformat_minor": 5
}
